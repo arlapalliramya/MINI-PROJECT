{
  "nbformat": 4,
  "nbformat_minor": 0,
  "metadata": {
    "colab": {
      "name": "minor project.ipynb",
      "provenance": [],
      "collapsed_sections": [],
      "mount_file_id": "108IqFUfbOgh5EBcv77hI7ruya2ZhwtxI",
      "authorship_tag": "ABX9TyMHYNAPDqY67rkLISvWilxq",
      "include_colab_link": true
    },
    "kernelspec": {
      "name": "python3",
      "display_name": "Python 3"
    }
  },
  "cells": [
    {
      "cell_type": "markdown",
      "metadata": {
        "id": "view-in-github",
        "colab_type": "text"
      },
      "source": [
        "<a href=\"https://colab.research.google.com/github/arlapalliramya/MINI-PROJECT/blob/main/Minor_project.ipynb\" target=\"_parent\"><img src=\"https://colab.research.google.com/assets/colab-badge.svg\" alt=\"Open In Colab\"/></a>"
      ]
    },
    {
      "cell_type": "code",
      "metadata": {
        "colab": {
          "base_uri": "https://localhost:8080/"
        },
        "id": "XSlnm4S5ygBo",
        "outputId": "5633418e-df9a-4d7c-e3fd-e60f5db57035"
      },
      "source": [
        "!pip install bing-image-downloader"
      ],
      "execution_count": 1,
      "outputs": [
        {
          "output_type": "stream",
          "text": [
            "Collecting bing-image-downloader\n",
            "  Downloading https://files.pythonhosted.org/packages/0d/bf/537a61030b84ae4cd5022d5c7b014fd9bc3ce7c02358919153a6658a61d3/bing_image_downloader-1.0.4-py3-none-any.whl\n",
            "Installing collected packages: bing-image-downloader\n",
            "Successfully installed bing-image-downloader-1.0.4\n"
          ],
          "name": "stdout"
        }
      ]
    },
    {
      "cell_type": "code",
      "metadata": {
        "id": "UulmHG7V85Vx"
      },
      "source": [
        "!mkdir images"
      ],
      "execution_count": 2,
      "outputs": []
    },
    {
      "cell_type": "code",
      "metadata": {
        "colab": {
          "base_uri": "https://localhost:8080/"
        },
        "id": "bIN1CiM49QP0",
        "outputId": "7c00b0b7-a481-418c-f52e-f3702b54ca36"
      },
      "source": [
        "from bing_image_downloader import downloader\r\n",
        "downloader.download(\"flowers\", limit=30,  output_dir='images', adult_filter_off=True, force_replace=False, timeout=60)\r\n"
      ],
      "execution_count": 3,
      "outputs": [
        {
          "output_type": "stream",
          "text": [
            "\n",
            "\n",
            "[!!]Indexing page: 1\n",
            "\n",
            "[%] Indexed 30 Images on Page 1.\n",
            "\n",
            "===============================================\n",
            "\n",
            "[%] Downloading Image #1 from https://1.bp.blogspot.com/-1l4T6MDQgqo/WSKvmmZ-KJI/AAAAAAAAAyM/xD2vAPs6JF8pLJl6lhnceuRdKWntNYovACLcB/s1600/9.jpg\n",
            "[%] File Downloaded !\n",
            "\n",
            "[%] Downloading Image #2 from https://www.hdwallpapers.in/download/pink_cosmos_flowers-1680x1050.jpg\n",
            "[%] File Downloaded !\n",
            "\n",
            "[%] Downloading Image #3 from http://4.bp.blogspot.com/-_mvArckgaVg/TeRoYxI8EPI/AAAAAAAAC28/5OXP-yL6wqQ/s1600/Beautiful+Flowers+1+%25284%2529.jpg\n",
            "[%] File Downloaded !\n",
            "\n",
            "[%] Downloading Image #4 from http://yodobi.com/4k-Wallpapers/purple-spring-flowers-wallpapers-high-definition-Is-4K-Wallpaper.jpg\n",
            "[%] File Downloaded !\n",
            "\n",
            "[%] Downloading Image #5 from https://www.hdwallpapers.in/download/beautiful_purple_flowers-wide.jpg\n",
            "[%] File Downloaded !\n",
            "\n",
            "[%] Downloading Image #6 from http://kazzer88.files.wordpress.com/2012/09/21-september-2012-pink-flowers.jpg\n",
            "[%] File Downloaded !\n",
            "\n",
            "[%] Downloading Image #7 from http://3.bp.blogspot.com/-anSqxQWm88Q/TZIdnkD8QXI/AAAAAAAAFCw/xCm_EWninrw/s1600/beautiful-pink-flowers.jpg\n",
            "[%] File Downloaded !\n",
            "\n",
            "[%] Downloading Image #8 from https://images.freecreatives.com/wp-content/uploads/2016/02/Cool-Backgrounds-of-Flowers.jpeg\n",
            "[%] File Downloaded !\n",
            "\n",
            "[%] Downloading Image #9 from http://2.bp.blogspot.com/-W2kQ-T315S0/Tqoi-SACoZI/AAAAAAAAB8Y/axAW5efzTUo/s1600/Philippine+flowers.jpg\n",
            "[%] File Downloaded !\n",
            "\n",
            "[%] Downloading Image #10 from http://flowerinfo.org/wp-content/gallery/zinnia-flowers/zinnia-flower-4.jpg\n",
            "[%] File Downloaded !\n",
            "\n",
            "[%] Downloading Image #11 from http://wallpaperheart.com/wp-content/uploads/2018/09/hd-wallpapers-nature-flowers-3.jpg\n",
            "[%] File Downloaded !\n",
            "\n",
            "[%] Downloading Image #12 from http://www.zastavki.com/pictures/1366x768/2008/Nature_Flowers_Secret_love__Flowers_008334_.jpg\n",
            "[%] File Downloaded !\n",
            "\n",
            "[%] Downloading Image #13 from https://hddesktopwallpapers.in/wp-content/uploads/2015/09/pink-purple-flowers-hd.jpg\n",
            "[%] File Downloaded !\n",
            "\n",
            "[%] Downloading Image #14 from http://www.flyingflowers.co.uk/ff_images/product/8466/FC93621F.jpg?product\n",
            "[%] File Downloaded !\n",
            "\n",
            "[%] Downloading Image #15 from https://weknowyourdreams.com/images/flowers/flowers-01.jpg\n",
            "[!] Issue getting: https://weknowyourdreams.com/images/flowers/flowers-01.jpg\n",
            "[!] Error:: <urlopen error [SSL: CERTIFICATE_VERIFY_FAILED] certificate verify failed (_ssl.c:852)>\n",
            "[%] Downloading Image #15 from https://jooinn.com/images/three-flowers-1.jpg\n",
            "[%] File Downloaded !\n",
            "\n",
            "[%] Downloading Image #16 from http://harvestbeyondmyfrontdoor.files.wordpress.com/2013/02/summer-flowers-6.jpg\n",
            "[%] File Downloaded !\n",
            "\n",
            "[%] Downloading Image #17 from https://upload.wikimedia.org/wikipedia/commons/f/fe/Frangipani_flowers.jpg\n",
            "[%] File Downloaded !\n",
            "\n",
            "[%] Downloading Image #18 from https://www.artificialflowers.company/wp-content/uploads/2015/12/artificial-flowers.jpg\n",
            "[%] File Downloaded !\n",
            "\n",
            "[%] Downloading Image #19 from http://www.flowersgallery.net/gallery/zinnia/zinnia-3.jpg\n",
            "[%] File Downloaded !\n",
            "\n",
            "[%] Downloading Image #20 from http://1.bp.blogspot.com/-sQZVLlsX8tk/TgnEYkz73oI/AAAAAAAAEY4/5kPvVPCOH8w/s1600/different%2Bflowers-746817.jpg\n",
            "[%] File Downloaded !\n",
            "\n",
            "[%] Downloading Image #21 from https://hddesktopwallpapers.in/wp-content/uploads/2015/11/peach-flowers-picture.jpg\n",
            "[%] File Downloaded !\n",
            "\n",
            "[%] Downloading Image #22 from http://flowerinfo.org/wp-content/gallery/rose-flowers/rose-flower-14.jpg\n",
            "[%] File Downloaded !\n",
            "\n",
            "[%] Downloading Image #23 from https://tellloveandparty.com/wp-content/uploads/2016/03/bridal-shower-flowers.jpg\n",
            "[%] File Downloaded !\n",
            "\n",
            "[%] Downloading Image #24 from http://www.greenerideal.com/wp-content/uploads/2013/03/spring-flowers.jpg\n",
            "[%] File Downloaded !\n",
            "\n",
            "[%] Downloading Image #25 from http://wallup.net/wp-content/uploads/2017/03/29/479250-tulips-flowers-field-plants-yellow_flowers-red_flowers.jpg\n",
            "[%] File Downloaded !\n",
            "\n",
            "[%] Downloading Image #26 from http://1.bp.blogspot.com/-r6FSyDTMKlE/TeRoh5sXPXI/AAAAAAAAC3I/tEI3AnhFYPU/s1600/Beautiful+Flowers+1+%25287%2529.jpg\n",
            "[%] File Downloaded !\n",
            "\n",
            "[%] Downloading Image #27 from https://www.lifelikeflowers.com/wp-content/uploads/T6A0103.jpg\n",
            "[%] File Downloaded !\n",
            "\n",
            "[%] Downloading Image #28 from https://thelocalbunch.com.au/wp-content/uploads/Large412.jpg\n",
            "[%] File Downloaded !\n",
            "\n",
            "[%] Downloading Image #29 from https://img.xcitefun.net/users/2014/07/361294,xcitefun-unique-flowers-44.jpg\n",
            "[%] File Downloaded !\n",
            "\n",
            "\n",
            "\n",
            "[!!]Indexing page: 2\n",
            "\n",
            "[%] Indexed 35 Images on Page 2.\n",
            "\n",
            "===============================================\n",
            "\n",
            "[%] Downloading Image #30 from https://1.bp.blogspot.com/-1l4T6MDQgqo/WSKvmmZ-KJI/AAAAAAAAAyM/xD2vAPs6JF8pLJl6lhnceuRdKWntNYovACLcB/s1600/9.jpg\n",
            "[%] File Downloaded !\n",
            "\n",
            "\n",
            "\n",
            "[%] Done. Downloaded 30 images.\n",
            "\n",
            "===============================================\n",
            "\n"
          ],
          "name": "stdout"
        }
      ]
    },
    {
      "cell_type": "code",
      "metadata": {
        "colab": {
          "base_uri": "https://localhost:8080/"
        },
        "id": "dEMmjWc2Arsd",
        "outputId": "d536a6c3-7920-403c-a409-cfde7a66fca4"
      },
      "source": [
        "from bing_image_downloader import downloader\r\n",
        "downloader.download(\"Teddy bear\", limit=30,  output_dir='images', adult_filter_off=True, force_replace=False, timeout=60)\r\n"
      ],
      "execution_count": 4,
      "outputs": [
        {
          "output_type": "stream",
          "text": [
            "\n",
            "\n",
            "[!!]Indexing page: 1\n",
            "\n",
            "[%] Indexed 30 Images on Page 1.\n",
            "\n",
            "===============================================\n",
            "\n",
            "[%] Downloading Image #1 from https://www.sitnsleep.com/blog/wp-content/uploads/2019/04/teddy-bear.jpg\n",
            "[%] File Downloaded !\n",
            "\n",
            "[%] Downloading Image #2 from https://primopromo.com.au/assets/Uploads/Teddy-Bear+Royal-Blue.jpg\n",
            "[%] File Downloaded !\n",
            "\n",
            "[%] Downloading Image #3 from http://static.kodajo.com/images/user/fileUp/7a658e687aa0cb3f805ffd19c07e64db.jpg\n",
            "[%] File Downloaded !\n",
            "\n",
            "[%] Downloading Image #4 from https://cdn.funcheap.com/wp-content/uploads/2018/04/BABW.jpg\n",
            "[%] File Downloaded !\n",
            "\n",
            "[%] Downloading Image #5 from https://cdn.sayitwithbears.co.uk/wp-content/uploads/2017/04/giant-teddy-bear-white-harry-925x1024.jpg\n",
            "[!] Issue getting: https://cdn.sayitwithbears.co.uk/wp-content/uploads/2017/04/giant-teddy-bear-white-harry-925x1024.jpg\n",
            "[!] Error:: <urlopen error [SSL: CERTIFICATE_VERIFY_FAILED] certificate verify failed (_ssl.c:852)>\n",
            "[%] Downloading Image #5 from http://pngimg.com/uploads/teddy_bear/teddy_bear_PNG7.png\n",
            "[%] File Downloaded !\n",
            "\n",
            "[%] Downloading Image #6 from http://pngimg.com/uploads/teddy_bear/teddy_bear_PNG94.png\n",
            "[%] File Downloaded !\n",
            "\n",
            "[%] Downloading Image #7 from https://api.time.com/wp-content/uploads/2016/12/teddy-bear.jpg\n",
            "[%] File Downloaded !\n",
            "\n",
            "[%] Downloading Image #8 from http://pngimg.com/uploads/teddy_bear/teddy_bear_PNG14.png\n",
            "[%] File Downloaded !\n",
            "\n",
            "[%] Downloading Image #9 from https://theawesomedaily.com/wp-content/uploads/2017/10/teddy-bear-images-10-2.jpg\n",
            "[%] File Downloaded !\n",
            "\n",
            "[%] Downloading Image #10 from https://api.time.com/wp-content/uploads/2019/12/Teddy-Bear.jpg?quality=85&amp;w=1200&amp;h=628&amp;crop=1\n",
            "[%] File Downloaded !\n",
            "\n",
            "[%] Downloading Image #11 from https://www.curiousmondo.com/images/2017/11/02/teddy-bear-making-02.jpg\n",
            "[%] File Downloaded !\n",
            "\n",
            "[%] Downloading Image #12 from http://www.photos-public-domain.com/wp-content/uploads/2010/12/cream_colored_teddy_bear.jpg\n",
            "[%] File Downloaded !\n",
            "\n",
            "[%] Downloading Image #13 from https://4.bp.blogspot.com/-003EDE5jTOw/UDSwjEWC7oI/AAAAAAAADuQ/lA_x_5ECQAo/s1600/teddy-bear-14-hqwallpapers4u.co.cc.jpg\n",
            "[%] File Downloaded !\n",
            "\n",
            "[%] Downloading Image #14 from https://media.istockphoto.com/photos/toy-teddy-bear-isolated-on-white-picture-id525900055?k=6&amp;m=525900055&amp;s=170667a&amp;w=0&amp;h=o1eJU4t7GMI4OGqXWFFq__vnp2q65pMK2tVPhTDjF5s=\n",
            "[%] File Downloaded !\n",
            "\n",
            "[%] Downloading Image #15 from https://www.tteengift.com/wp-content/uploads/2014/12/Small-Classic-Teddy-Bear-G01.jpg\n",
            "[%] File Downloaded !\n",
            "\n",
            "[%] Downloading Image #16 from https://mylitter.com/wp-content/uploads/2019/02/bear.jpg\n",
            "[%] File Downloaded !\n",
            "\n",
            "[%] Downloading Image #17 from https://pngimg.com/uploads/teddy_bear/teddy_bear_PNG87.png\n",
            "[%] File Downloaded !\n",
            "\n",
            "[%] Downloading Image #18 from https://www.bears4u.co.uk/wp-content/uploads/2019/12/Sherwood-teddy-bear.jpg\n",
            "[%] File Downloaded !\n",
            "\n",
            "[%] Downloading Image #19 from https://www.freeiconspng.com/uploads/teddy-bear-png-33.png\n",
            "[%] File Downloaded !\n",
            "\n",
            "[%] Downloading Image #20 from https://www.worldofbears.com/acatalog/gund-320574.jpg\n",
            "[%] File Downloaded !\n",
            "\n",
            "[%] Downloading Image #21 from https://www.rollingstone.com/wp-content/uploads/2020/04/warmies-bear.jpg?w=1021\n",
            "[%] File Downloaded !\n",
            "\n",
            "[%] Downloading Image #22 from https://cloud.melijoe.com/p/d3c6a55a_1582943401_n_jellycat_284653_A.jpg\n",
            "[Error]Invalid image, not saving https://cloud.melijoe.com/p/d3c6a55a_1582943401_n_jellycat_284653_A.jpg\n",
            "\n",
            "[!] Issue getting: https://cloud.melijoe.com/p/d3c6a55a_1582943401_n_jellycat_284653_A.jpg\n",
            "[!] Error:: No active exception to reraise\n",
            "[%] Downloading Image #22 from https://pngimg.com/uploads/teddy_bear/teddy_bear_PNG57.png\n",
            "[%] File Downloaded !\n",
            "\n",
            "[%] Downloading Image #23 from http://www.bitrebels.com/wp-content/uploads/2013/07/talking-supertoyteddy-bear-1.jpg\n",
            "[%] File Downloaded !\n",
            "\n",
            "[%] Downloading Image #24 from http://wallsdesk.com/wp-content/uploads/2016/11/Teddy-Bear-Wallpapers.jpg\n",
            "[%] File Downloaded !\n",
            "\n",
            "[%] Downloading Image #25 from https://www.hug2love.com/wp-content/uploads/2016/01/cute-photos-of-teddy-bear.jpg\n",
            "[%] File Downloaded !\n",
            "\n",
            "[%] Downloading Image #26 from https://www.carouselshop.co.uk/media/catalog/product/cache/9/image/2000x/040ec09b1e35df139433887a97daa66f/D/1/D10F255704F7CE7FBEB25963EFF90A74.jpg\n",
            "[%] File Downloaded !\n",
            "\n",
            "[%] Downloading Image #27 from https://www.sayitwithbears.co.uk/wp-content/uploads/2018/08/25cm-sloth-sw1818-925x1024.jpg\n",
            "[%] File Downloaded !\n",
            "\n",
            "[%] Downloading Image #28 from https://visitglendale.com/wp-content/uploads/2018/06/teddy-bear-day4.png\n",
            "[%] File Downloaded !\n",
            "\n",
            "\n",
            "\n",
            "[!!]Indexing page: 2\n",
            "\n",
            "[%] Indexed 35 Images on Page 2.\n",
            "\n",
            "===============================================\n",
            "\n",
            "[%] Downloading Image #29 from https://www.sitnsleep.com/blog/wp-content/uploads/2019/04/teddy-bear.jpg\n",
            "[%] File Downloaded !\n",
            "\n",
            "[%] Downloading Image #30 from https://primopromo.com.au/assets/Uploads/Teddy-Bear+Royal-Blue.jpg\n",
            "[%] File Downloaded !\n",
            "\n",
            "\n",
            "\n",
            "[%] Done. Downloaded 30 images.\n",
            "\n",
            "===============================================\n",
            "\n"
          ],
          "name": "stdout"
        }
      ]
    },
    {
      "cell_type": "code",
      "metadata": {
        "id": "dmO-Nik9EFpS"
      },
      "source": [
        "import os\r\n",
        "import matplotlib.pyplot as plt\r\n",
        "import numpy as np\r\n",
        "from matplotlib.pyplot import imread\r\n",
        "from skimage.io import imread\r\n",
        "from skimage.transform import resize\r\n",
        " \r\n",
        "target = []\r\n",
        "images = []\r\n",
        "flat_data = []\r\n",
        " \r\n",
        "  \r\n",
        "\r\n",
        "DATADIR = '/content/images'\r\n",
        "CATEGORIES = ['flowers','Teddy bear']\r\n",
        "\r\n",
        "for category in CATEGORIES:\r\n",
        "   class_num = CATEGORIES.index(category)\r\n",
        "   path = os.path.join(DATADIR,category)\r\n",
        "   for img in os.listdir(path):\r\n",
        "     img_array = imread(os.path.join(path,img))\r\n",
        "     img_resized = resize(img_array,(150,150,3))\r\n",
        "     flat_data.append(img_resized.flatten())\r\n",
        "     images.append(img_resized)\r\n",
        "     target.append(class_num)\r\n",
        "\r\n",
        "flat_data = np.array(flat_data)\r\n",
        "target = np.array(target)\r\n",
        "images = np.array(images)\r\n"
      ],
      "execution_count": 5,
      "outputs": []
    },
    {
      "cell_type": "code",
      "metadata": {
        "colab": {
          "base_uri": "https://localhost:8080/"
        },
        "id": "TaG97gizGDjc",
        "outputId": "cf9cae67-2113-4c16-a665-7d64331f4dee"
      },
      "source": [
        "flat_data[0]"
      ],
      "execution_count": 6,
      "outputs": [
        {
          "output_type": "execute_result",
          "data": {
            "text/plain": [
              "array([0.08637908, 0.        , 0.00392157, ..., 0.89354248, 0.98429333,\n",
              "       0.99215686])"
            ]
          },
          "metadata": {
            "tags": []
          },
          "execution_count": 6
        }
      ]
    },
    {
      "cell_type": "code",
      "metadata": {
        "colab": {
          "base_uri": "https://localhost:8080/"
        },
        "id": "WcJuk9dUNRv9",
        "outputId": "a512c8a5-881b-443c-e40b-78fe8cb77d40"
      },
      "source": [
        "target"
      ],
      "execution_count": 8,
      "outputs": [
        {
          "output_type": "execute_result",
          "data": {
            "text/plain": [
              "array([0, 0, 0, 0, 0, 0, 0, 0, 0, 0, 0, 0, 0, 0, 0, 0, 0, 0, 0, 0, 0, 0,\n",
              "       0, 0, 0, 0, 0, 0, 0, 0, 1, 1, 1, 1, 1, 1, 1, 1, 1, 1, 1, 1, 1, 1,\n",
              "       1, 1, 1, 1, 1, 1, 1, 1, 1, 1, 1, 1, 1, 1, 1, 1])"
            ]
          },
          "metadata": {
            "tags": []
          },
          "execution_count": 8
        }
      ]
    },
    {
      "cell_type": "code",
      "metadata": {
        "colab": {
          "base_uri": "https://localhost:8080/",
          "height": 284
        },
        "id": "AYemXopzNmsv",
        "outputId": "9711a591-0adf-490c-e36e-bdcc9de96542"
      },
      "source": [
        "unique,count = np.unique(target,return_counts=True)\r\n",
        "plt.bar(CATEGORIES,count)"
      ],
      "execution_count": 9,
      "outputs": [
        {
          "output_type": "execute_result",
          "data": {
            "text/plain": [
              "<BarContainer object of 2 artists>"
            ]
          },
          "metadata": {
            "tags": []
          },
          "execution_count": 9
        },
        {
          "output_type": "display_data",
          "data": {
            "image/png": "[encoded data removed]",
            "text/plain": [
              "<Figure size 432x288 with 1 Axes>"
            ]
          },
          "metadata": {
            "tags": [],
            "needs_background": "light"
          }
        }
      ]
    },
    {
      "cell_type": "code",
      "metadata": {
        "id": "xTelQxgOOMnD"
      },
      "source": [
        "from sklearn.model_selection import train_test_split\r\n",
        "x_train,x_test,y_train,y_test = train_test_split(flat_data,target,test_size=0.3,random_state=109)"
      ],
      "execution_count": 10,
      "outputs": []
    },
    {
      "cell_type": "code",
      "metadata": {
        "colab": {
          "base_uri": "https://localhost:8080/"
        },
        "id": "S_PqyYPmPMug",
        "outputId": "1ebc62ad-0e04-40cb-deb0-d51b31858c03"
      },
      "source": [
        "from sklearn.model_selection import GridSearchCV\r\n",
        "from sklearn import svm\r\n",
        "param_grid=[\r\n",
        "            {'C':[1,10,100,1000],'kernel':['linear']},\r\n",
        "            {'C':[1,10,100,1000],'gamma':[0.001,0.0001],'kernel':['rbf']},\r\n",
        "]\r\n",
        "svc = svm.SVC(probability=True)\r\n",
        "clf = GridSearchCV(svc,param_grid)\r\n",
        "clf.fit(x_train,y_train)"
      ],
      "execution_count": 11,
      "outputs": [
        {
          "output_type": "execute_result",
          "data": {
            "text/plain": [
              "GridSearchCV(cv=None, error_score=nan,\n",
              "             estimator=SVC(C=1.0, break_ties=False, cache_size=200,\n",
              "                           class_weight=None, coef0=0.0,\n",
              "                           decision_function_shape='ovr', degree=3,\n",
              "                           gamma='scale', kernel='rbf', max_iter=-1,\n",
              "                           probability=True, random_state=None, shrinking=True,\n",
              "                           tol=0.001, verbose=False),\n",
              "             iid='deprecated', n_jobs=None,\n",
              "             param_grid=[{'C': [1, 10, 100, 1000], 'kernel': ['linear']},\n",
              "                         {'C': [1, 10, 100, 1000], 'gamma': [0.001, 0.0001],\n",
              "                          'kernel': ['rbf']}],\n",
              "             pre_dispatch='2*n_jobs', refit=True, return_train_score=False,\n",
              "             scoring=None, verbose=0)"
            ]
          },
          "metadata": {
            "tags": []
          },
          "execution_count": 11
        }
      ]
    },
    {
      "cell_type": "code",
      "metadata": {
        "colab": {
          "base_uri": "https://localhost:8080/"
        },
        "id": "MtIlpRxQRJe3",
        "outputId": "9f264ae9-e7fa-4bf1-f6ec-f25cf186dea6"
      },
      "source": [
        "y_pred = clf.predict(x_test)\r\n",
        "y_pred"
      ],
      "execution_count": 12,
      "outputs": [
        {
          "output_type": "execute_result",
          "data": {
            "text/plain": [
              "array([0, 1, 0, 0, 0, 0, 1, 0, 0, 0, 0, 1, 1, 0, 1, 0, 1, 0])"
            ]
          },
          "metadata": {
            "tags": []
          },
          "execution_count": 12
        }
      ]
    },
    {
      "cell_type": "code",
      "metadata": {
        "colab": {
          "base_uri": "https://localhost:8080/"
        },
        "id": "3IPMvoaTRVKr",
        "outputId": "f1d965a3-9390-42cf-abd3-cecd7f553ea5"
      },
      "source": [
        "y_test"
      ],
      "execution_count": 14,
      "outputs": [
        {
          "output_type": "execute_result",
          "data": {
            "text/plain": [
              "array([0, 0, 0, 1, 0, 0, 1, 0, 0, 1, 1, 1, 1, 0, 1, 0, 0, 0])"
            ]
          },
          "metadata": {
            "tags": []
          },
          "execution_count": 14
        }
      ]
    },
    {
      "cell_type": "code",
      "metadata": {
        "id": "QFXhH8WyRlkf"
      },
      "source": [
        "from sklearn.metrics import accuracy_score,confusion_matrix"
      ],
      "execution_count": 15,
      "outputs": []
    },
    {
      "cell_type": "code",
      "metadata": {
        "colab": {
          "base_uri": "https://localhost:8080/"
        },
        "id": "VNh9SezMR17U",
        "outputId": "03a0775b-c0ed-4051-a066-bcad7ec21cc7"
      },
      "source": [
        "accuracy_score(y_pred,y_test)"
      ],
      "execution_count": 16,
      "outputs": [
        {
          "output_type": "execute_result",
          "data": {
            "text/plain": [
              "0.7222222222222222"
            ]
          },
          "metadata": {
            "tags": []
          },
          "execution_count": 16
        }
      ]
    },
    {
      "cell_type": "code",
      "metadata": {
        "colab": {
          "base_uri": "https://localhost:8080/"
        },
        "id": "_sWUWz9YTAp6",
        "outputId": "aea42de4-6701-4df1-b1fe-3319313b0e2b"
      },
      "source": [
        "confusion_matrix(y_pred,y_test)\r\n"
      ],
      "execution_count": 18,
      "outputs": [
        {
          "output_type": "execute_result",
          "data": {
            "text/plain": [
              "array([[9, 3],\n",
              "       [2, 4]])"
            ]
          },
          "metadata": {
            "tags": []
          },
          "execution_count": 18
        }
      ]
    },
    {
      "cell_type": "code",
      "metadata": {
        "id": "t3GXQyklTNA6"
      },
      "source": [
        "import pickle\r\n",
        "pickle.dump(clf,open('img_model.p','wb'))"
      ],
      "execution_count": 19,
      "outputs": []
    },
    {
      "cell_type": "code",
      "metadata": {
        "id": "nndoaYhiWShz"
      },
      "source": [
        "model = pickle.load(open('img_model.p','rb'))"
      ],
      "execution_count": 20,
      "outputs": []
    },
    {
      "cell_type": "code",
      "metadata": {
        "colab": {
          "base_uri": "https://localhost:8080/",
          "height": 325
        },
        "id": "YgPDCyVBW_N2",
        "outputId": "ea2ec6c7-0f54-4c95-e8ec-b5c8a83d89f5"
      },
      "source": [
        "flat_data = []\r\n",
        "url = input('Enter your URL')\r\n",
        "img = imread(url)\r\n",
        "img_resized = resize(img,(150,150,3))\r\n",
        "flat_data.append(img_resized.flatten())\r\n",
        "flat_data = np.array(flat_data)\r\n",
        "print(img.shape)\r\n",
        "plt.imshow(img_resized)\r\n",
        "y_out = model.predict(flat_data)\r\n",
        "y_out = CATEGORIES[y_out[0]]\r\n",
        "print(f'PREDICTED OUTPUT: {y_out}')\r\n",
        "\r\n",
        "\r\n"
      ],
      "execution_count": 23,
      "outputs": [
        {
          "output_type": "stream",
          "text": [
            "Enter your URLhttps://upload.wikimedia.org/wikipedia/commons/thumb/0/0c/White_and_yellow_flower.JPG/330px-White_and_yellow_flower.JPG\n",
            "(248, 330, 3)\n",
            "PREDICTED OUTPUT: flowers\n"
          ],
          "name": "stdout"
        },
        {
          "output_type": "display_data",
          "data": {
            "image/png": "[encoded data removed]",
            "text/plain": [
              "<Figure size 432x288 with 1 Axes>"
            ]
          },
          "metadata": {
            "tags": [],
            "needs_background": "light"
          }
        }
      ]
    },
    {
      "cell_type": "code",
      "metadata": {
        "colab": {
          "base_uri": "https://localhost:8080/",
          "height": 1000
        },
        "id": "pDjlHbafRfEd",
        "outputId": "35b3042f-d018-4d17-8ccf-93adda1f577c"
      },
      "source": [
        "!pip install streamlit\r\n",
        "!pip install pyngrok\r\n",
        "from pyngrok import ngrok\r\n"
      ],
      "execution_count": 24,
      "outputs": [
        {
          "output_type": "stream",
          "text": [
            "Collecting streamlit\n",
            "\u001b[?25l  Downloading https://files.pythonhosted.org/packages/b2/97/ae3c52932853399cc748e4f3e4947659b0b487fad3a4df391557442a92db/streamlit-0.76.0-py2.py3-none-any.whl (7.5MB)\n",
            "\u001b[K     |████████████████████████████████| 7.5MB 11.4MB/s \n",
            "\u001b[?25hRequirement already satisfied: altair>=3.2.0 in /usr/local/lib/python3.6/dist-packages (from streamlit) (4.1.0)\n",
            "Collecting blinker\n",
            "\u001b[?25l  Downloading https://files.pythonhosted.org/packages/1b/51/e2a9f3b757eb802f61dc1f2b09c8c99f6eb01cf06416c0671253536517b6/blinker-1.4.tar.gz (111kB)\n",
            "\u001b[K     |████████████████████████████████| 112kB 39.7MB/s \n",
            "\u001b[?25hRequirement already satisfied: tornado>=5.0 in /usr/local/lib/python3.6/dist-packages (from streamlit) (5.1.1)\n",
            "Collecting base58\n",
            "  Downloading https://files.pythonhosted.org/packages/b8/a1/d9f565e9910c09fd325dc638765e8843a19fa696275c16cc08cf3b0a3c25/base58-2.1.0-py3-none-any.whl\n",
            "Requirement already satisfied: pillow>=6.2.0 in /usr/local/lib/python3.6/dist-packages (from streamlit) (7.0.0)\n",
            "Requirement already satisfied: packaging in /usr/local/lib/python3.6/dist-packages (from streamlit) (20.9)\n",
            "Requirement already satisfied: protobuf!=3.11,>=3.6.0 in /usr/local/lib/python3.6/dist-packages (from streamlit) (3.12.4)\n",
            "Requirement already satisfied: tzlocal in /usr/local/lib/python3.6/dist-packages (from streamlit) (1.5.1)\n",
            "Collecting watchdog; platform_system != \"Darwin\"\n",
            "\u001b[?25l  Downloading https://files.pythonhosted.org/packages/f8/29/21ce5a06261a729e9336fa86dc52625dfcecf9b07151be2c92436863943a/watchdog-2.0.1-py3-none-manylinux2014_x86_64.whl (74kB)\n",
            "\u001b[K     |████████████████████████████████| 81kB 6.4MB/s \n",
            "\u001b[?25hRequirement already satisfied: pyarrow; python_version < \"3.9\" in /usr/local/lib/python3.6/dist-packages (from streamlit) (0.14.1)\n",
            "Requirement already satisfied: cachetools>=4.0 in /usr/local/lib/python3.6/dist-packages (from streamlit) (4.2.1)\n",
            "Requirement already satisfied: toml in /usr/local/lib/python3.6/dist-packages (from streamlit) (0.10.2)\n",
            "Requirement already satisfied: requests in /usr/local/lib/python3.6/dist-packages (from streamlit) (2.23.0)\n",
            "Collecting validators\n",
            "  Downloading https://files.pythonhosted.org/packages/db/2f/7fed3ee94ad665ad2c1de87f858f10a7785251ff75b4fd47987888d07ef1/validators-0.18.2-py3-none-any.whl\n",
            "Requirement already satisfied: python-dateutil in /usr/local/lib/python3.6/dist-packages (from streamlit) (2.8.1)\n",
            "Requirement already satisfied: astor in /usr/local/lib/python3.6/dist-packages (from streamlit) (0.8.1)\n",
            "Requirement already satisfied: pandas>=0.21.0 in /usr/local/lib/python3.6/dist-packages (from streamlit) (1.1.5)\n",
            "Collecting pydeck>=0.1.dev5\n",
            "\u001b[?25l  Downloading https://files.pythonhosted.org/packages/1c/3f/8f04ae0c22d82ec7bec7fcc03270a142f637e362bbd285f7daeeda24fbef/pydeck-0.6.1-py2.py3-none-any.whl (4.6MB)\n",
            "\u001b[K     |████████████████████████████████| 4.6MB 47.7MB/s \n",
            "\u001b[?25hCollecting gitpython\n",
            "\u001b[?25l  Downloading https://files.pythonhosted.org/packages/fb/67/47a04d8a9d7f94645676fe683f1ee3fe9be01fe407686c180768a92abaac/GitPython-3.1.13-py3-none-any.whl (159kB)\n",
            "\u001b[K     |████████████████████████████████| 163kB 46.0MB/s \n",
            "\u001b[?25hRequirement already satisfied: click>=7.0 in /usr/local/lib/python3.6/dist-packages (from streamlit) (7.1.2)\n",
            "Requirement already satisfied: numpy in /usr/local/lib/python3.6/dist-packages (from streamlit) (1.19.5)\n",
            "Requirement already satisfied: jinja2 in /usr/local/lib/python3.6/dist-packages (from altair>=3.2.0->streamlit) (2.11.3)\n",
            "Requirement already satisfied: jsonschema in /usr/local/lib/python3.6/dist-packages (from altair>=3.2.0->streamlit) (2.6.0)\n",
            "Requirement already satisfied: toolz in /usr/local/lib/python3.6/dist-packages (from altair>=3.2.0->streamlit) (0.11.1)\n",
            "Requirement already satisfied: entrypoints in /usr/local/lib/python3.6/dist-packages (from altair>=3.2.0->streamlit) (0.3)\n",
            "Requirement already satisfied: pyparsing>=2.0.2 in /usr/local/lib/python3.6/dist-packages (from packaging->streamlit) (2.4.7)\n",
            "Requirement already satisfied: setuptools in /usr/local/lib/python3.6/dist-packages (from protobuf!=3.11,>=3.6.0->streamlit) (53.0.0)\n",
            "Requirement already satisfied: six>=1.9 in /usr/local/lib/python3.6/dist-packages (from protobuf!=3.11,>=3.6.0->streamlit) (1.15.0)\n",
            "Requirement already satisfied: pytz in /usr/local/lib/python3.6/dist-packages (from tzlocal->streamlit) (2018.9)\n",
            "Requirement already satisfied: urllib3!=1.25.0,!=1.25.1,<1.26,>=1.21.1 in /usr/local/lib/python3.6/dist-packages (from requests->streamlit) (1.24.3)\n",
            "Requirement already satisfied: certifi>=2017.4.17 in /usr/local/lib/python3.6/dist-packages (from requests->streamlit) (2020.12.5)\n",
            "Requirement already satisfied: chardet<4,>=3.0.2 in /usr/local/lib/python3.6/dist-packages (from requests->streamlit) (3.0.4)\n",
            "Requirement already satisfied: idna<3,>=2.5 in /usr/local/lib/python3.6/dist-packages (from requests->streamlit) (2.10)\n",
            "Requirement already satisfied: decorator>=3.4.0 in /usr/local/lib/python3.6/dist-packages (from validators->streamlit) (4.4.2)\n",
            "Requirement already satisfied: traitlets>=4.3.2 in /usr/local/lib/python3.6/dist-packages (from pydeck>=0.1.dev5->streamlit) (4.3.3)\n",
            "Requirement already satisfied: ipywidgets>=7.0.0 in /usr/local/lib/python3.6/dist-packages (from pydeck>=0.1.dev5->streamlit) (7.6.3)\n",
            "Collecting ipykernel>=5.1.2; python_version >= \"3.4\"\n",
            "\u001b[?25l  Downloading https://files.pythonhosted.org/packages/56/95/3a670c8b2c2370bd8631c313f42e60983b3113ffec4035940592252bd6d5/ipykernel-5.5.0-py3-none-any.whl (120kB)\n",
            "\u001b[K     |████████████████████████████████| 122kB 61.8MB/s \n",
            "\u001b[?25hCollecting gitdb<5,>=4.0.1\n",
            "\u001b[?25l  Downloading https://files.pythonhosted.org/packages/48/11/d1800bca0a3bae820b84b7d813ad1eff15a48a64caea9c823fc8c1b119e8/gitdb-4.0.5-py3-none-any.whl (63kB)\n",
            "\u001b[K     |████████████████████████████████| 71kB 6.1MB/s \n",
            "\u001b[?25hRequirement already satisfied: MarkupSafe>=0.23 in /usr/local/lib/python3.6/dist-packages (from jinja2->altair>=3.2.0->streamlit) (1.1.1)\n",
            "Requirement already satisfied: ipython-genutils in /usr/local/lib/python3.6/dist-packages (from traitlets>=4.3.2->pydeck>=0.1.dev5->streamlit) (0.2.0)\n",
            "Requirement already satisfied: jupyterlab-widgets>=1.0.0; python_version >= \"3.6\" in /usr/local/lib/python3.6/dist-packages (from ipywidgets>=7.0.0->pydeck>=0.1.dev5->streamlit) (1.0.0)\n",
            "Requirement already satisfied: nbformat>=4.2.0 in /usr/local/lib/python3.6/dist-packages (from ipywidgets>=7.0.0->pydeck>=0.1.dev5->streamlit) (5.1.2)\n",
            "Requirement already satisfied: ipython>=4.0.0; python_version >= \"3.3\" in /usr/local/lib/python3.6/dist-packages (from ipywidgets>=7.0.0->pydeck>=0.1.dev5->streamlit) (5.5.0)\n",
            "Requirement already satisfied: widgetsnbextension~=3.5.0 in /usr/local/lib/python3.6/dist-packages (from ipywidgets>=7.0.0->pydeck>=0.1.dev5->streamlit) (3.5.1)\n",
            "Requirement already satisfied: jupyter-client in /usr/local/lib/python3.6/dist-packages (from ipykernel>=5.1.2; python_version >= \"3.4\"->pydeck>=0.1.dev5->streamlit) (5.3.5)\n",
            "Collecting smmap<4,>=3.0.1\n",
            "  Downloading https://files.pythonhosted.org/packages/d5/1e/6130925131f639b2acde0f7f18b73e33ce082ff2d90783c436b52040af5a/smmap-3.0.5-py2.py3-none-any.whl\n",
            "Requirement already satisfied: jupyter-core in /usr/local/lib/python3.6/dist-packages (from nbformat>=4.2.0->ipywidgets>=7.0.0->pydeck>=0.1.dev5->streamlit) (4.7.1)\n",
            "Requirement already satisfied: prompt-toolkit<2.0.0,>=1.0.4 in /usr/local/lib/python3.6/dist-packages (from ipython>=4.0.0; python_version >= \"3.3\"->ipywidgets>=7.0.0->pydeck>=0.1.dev5->streamlit) (1.0.18)\n",
            "Requirement already satisfied: pickleshare in /usr/local/lib/python3.6/dist-packages (from ipython>=4.0.0; python_version >= \"3.3\"->ipywidgets>=7.0.0->pydeck>=0.1.dev5->streamlit) (0.7.5)\n",
            "Requirement already satisfied: simplegeneric>0.8 in /usr/local/lib/python3.6/dist-packages (from ipython>=4.0.0; python_version >= \"3.3\"->ipywidgets>=7.0.0->pydeck>=0.1.dev5->streamlit) (0.8.1)\n",
            "Requirement already satisfied: pygments in /usr/local/lib/python3.6/dist-packages (from ipython>=4.0.0; python_version >= \"3.3\"->ipywidgets>=7.0.0->pydeck>=0.1.dev5->streamlit) (2.6.1)\n",
            "Requirement already satisfied: pexpect; sys_platform != \"win32\" in /usr/local/lib/python3.6/dist-packages (from ipython>=4.0.0; python_version >= \"3.3\"->ipywidgets>=7.0.0->pydeck>=0.1.dev5->streamlit) (4.8.0)\n",
            "Requirement already satisfied: notebook>=4.4.1 in /usr/local/lib/python3.6/dist-packages (from widgetsnbextension~=3.5.0->ipywidgets>=7.0.0->pydeck>=0.1.dev5->streamlit) (5.3.1)\n",
            "Requirement already satisfied: pyzmq>=13 in /usr/local/lib/python3.6/dist-packages (from jupyter-client->ipykernel>=5.1.2; python_version >= \"3.4\"->pydeck>=0.1.dev5->streamlit) (22.0.2)\n",
            "Requirement already satisfied: wcwidth in /usr/local/lib/python3.6/dist-packages (from prompt-toolkit<2.0.0,>=1.0.4->ipython>=4.0.0; python_version >= \"3.3\"->ipywidgets>=7.0.0->pydeck>=0.1.dev5->streamlit) (0.2.5)\n",
            "Requirement already satisfied: ptyprocess>=0.5 in /usr/local/lib/python3.6/dist-packages (from pexpect; sys_platform != \"win32\"->ipython>=4.0.0; python_version >= \"3.3\"->ipywidgets>=7.0.0->pydeck>=0.1.dev5->streamlit) (0.7.0)\n",
            "Requirement already satisfied: nbconvert in /usr/local/lib/python3.6/dist-packages (from notebook>=4.4.1->widgetsnbextension~=3.5.0->ipywidgets>=7.0.0->pydeck>=0.1.dev5->streamlit) (5.6.1)\n",
            "Requirement already satisfied: terminado>=0.8.1 in /usr/local/lib/python3.6/dist-packages (from notebook>=4.4.1->widgetsnbextension~=3.5.0->ipywidgets>=7.0.0->pydeck>=0.1.dev5->streamlit) (0.9.2)\n",
            "Requirement already satisfied: Send2Trash in /usr/local/lib/python3.6/dist-packages (from notebook>=4.4.1->widgetsnbextension~=3.5.0->ipywidgets>=7.0.0->pydeck>=0.1.dev5->streamlit) (1.5.0)\n",
            "Requirement already satisfied: bleach in /usr/local/lib/python3.6/dist-packages (from nbconvert->notebook>=4.4.1->widgetsnbextension~=3.5.0->ipywidgets>=7.0.0->pydeck>=0.1.dev5->streamlit) (3.3.0)\n",
            "Requirement already satisfied: testpath in /usr/local/lib/python3.6/dist-packages (from nbconvert->notebook>=4.4.1->widgetsnbextension~=3.5.0->ipywidgets>=7.0.0->pydeck>=0.1.dev5->streamlit) (0.4.4)\n",
            "Requirement already satisfied: defusedxml in /usr/local/lib/python3.6/dist-packages (from nbconvert->notebook>=4.4.1->widgetsnbextension~=3.5.0->ipywidgets>=7.0.0->pydeck>=0.1.dev5->streamlit) (0.6.0)\n",
            "Requirement already satisfied: pandocfilters>=1.4.1 in /usr/local/lib/python3.6/dist-packages (from nbconvert->notebook>=4.4.1->widgetsnbextension~=3.5.0->ipywidgets>=7.0.0->pydeck>=0.1.dev5->streamlit) (1.4.3)\n",
            "Requirement already satisfied: mistune<2,>=0.8.1 in /usr/local/lib/python3.6/dist-packages (from nbconvert->notebook>=4.4.1->widgetsnbextension~=3.5.0->ipywidgets>=7.0.0->pydeck>=0.1.dev5->streamlit) (0.8.4)\n",
            "Requirement already satisfied: webencodings in /usr/local/lib/python3.6/dist-packages (from bleach->nbconvert->notebook>=4.4.1->widgetsnbextension~=3.5.0->ipywidgets>=7.0.0->pydeck>=0.1.dev5->streamlit) (0.5.1)\n",
            "Building wheels for collected packages: blinker\n",
            "  Building wheel for blinker (setup.py) ... \u001b[?25l\u001b[?25hdone\n",
            "  Created wheel for blinker: filename=blinker-1.4-cp36-none-any.whl size=13450 sha256=619e227234cabafae840dfd6b9e3c9e360b5dbc3b3b1788ee6d8d0fac4b1b4b2\n",
            "  Stored in directory: /root/.cache/pip/wheels/92/a0/00/8690a57883956a301d91cf4ec999cc0b258b01e3f548f86e89\n",
            "Successfully built blinker\n",
            "\u001b[31mERROR: google-colab 1.0.0 has requirement ipykernel~=4.10, but you'll have ipykernel 5.5.0 which is incompatible.\u001b[0m\n",
            "Installing collected packages: blinker, base58, watchdog, validators, ipykernel, pydeck, smmap, gitdb, gitpython, streamlit\n",
            "  Found existing installation: ipykernel 4.10.1\n",
            "    Uninstalling ipykernel-4.10.1:\n",
            "      Successfully uninstalled ipykernel-4.10.1\n",
            "Successfully installed base58-2.1.0 blinker-1.4 gitdb-4.0.5 gitpython-3.1.13 ipykernel-5.5.0 pydeck-0.6.1 smmap-3.0.5 streamlit-0.76.0 validators-0.18.2 watchdog-2.0.1\n"
          ],
          "name": "stdout"
        },
        {
          "output_type": "display_data",
          "data": {
            "application/vnd.colab-display-data+json": {
              "pip_warning": {
                "packages": [
                  "ipykernel"
                ]
              }
            }
          },
          "metadata": {
            "tags": []
          }
        },
        {
          "output_type": "stream",
          "text": [
            "Collecting pyngrok\n",
            "\u001b[?25l  Downloading https://files.pythonhosted.org/packages/cf/db/dc44d7d54271e46b25b35308fd25d38039ebbe2548215d61dc4ab27de396/pyngrok-5.0.2.tar.gz (731kB)\n",
            "\r\u001b[K     |▌                               | 10kB 12.6MB/s eta 0:00:01\r\u001b[K     |█                               | 20kB 19.7MB/s eta 0:00:01\r\u001b[K     |█▍                              | 30kB 21.1MB/s eta 0:00:01\r\u001b[K     |█▉                              | 40kB 14.8MB/s eta 0:00:01\r\u001b[K     |██▎                             | 51kB 17.3MB/s eta 0:00:01\r\u001b[K     |██▊                             | 61kB 19.7MB/s eta 0:00:01\r\u001b[K     |███▏                            | 71kB 13.2MB/s eta 0:00:01\r\u001b[K     |███▋                            | 81kB 14.2MB/s eta 0:00:01\r\u001b[K     |████                            | 92kB 12.6MB/s eta 0:00:01\r\u001b[K     |████▌                           | 102kB 12.1MB/s eta 0:00:01\r\u001b[K     |█████                           | 112kB 12.1MB/s eta 0:00:01\r\u001b[K     |█████▍                          | 122kB 12.1MB/s eta 0:00:01\r\u001b[K     |█████▉                          | 133kB 12.1MB/s eta 0:00:01\r\u001b[K     |██████▎                         | 143kB 12.1MB/s eta 0:00:01\r\u001b[K     |██████▊                         | 153kB 12.1MB/s eta 0:00:01\r\u001b[K     |███████▏                        | 163kB 12.1MB/s eta 0:00:01\r\u001b[K     |███████▋                        | 174kB 12.1MB/s eta 0:00:01\r\u001b[K     |████████                        | 184kB 12.1MB/s eta 0:00:01\r\u001b[K     |████████▌                       | 194kB 12.1MB/s eta 0:00:01\r\u001b[K     |█████████                       | 204kB 12.1MB/s eta 0:00:01\r\u001b[K     |█████████▍                      | 215kB 12.1MB/s eta 0:00:01\r\u001b[K     |█████████▉                      | 225kB 12.1MB/s eta 0:00:01\r\u001b[K     |██████████▎                     | 235kB 12.1MB/s eta 0:00:01\r\u001b[K     |██████████▊                     | 245kB 12.1MB/s eta 0:00:01\r\u001b[K     |███████████▏                    | 256kB 12.1MB/s eta 0:00:01\r\u001b[K     |███████████▋                    | 266kB 12.1MB/s eta 0:00:01\r\u001b[K     |████████████                    | 276kB 12.1MB/s eta 0:00:01\r\u001b[K     |████████████▌                   | 286kB 12.1MB/s eta 0:00:01\r\u001b[K     |█████████████                   | 296kB 12.1MB/s eta 0:00:01\r\u001b[K     |█████████████▍                  | 307kB 12.1MB/s eta 0:00:01\r\u001b[K     |█████████████▉                  | 317kB 12.1MB/s eta 0:00:01\r\u001b[K     |██████████████▍                 | 327kB 12.1MB/s eta 0:00:01\r\u001b[K     |██████████████▉                 | 337kB 12.1MB/s eta 0:00:01\r\u001b[K     |███████████████▎                | 348kB 12.1MB/s eta 0:00:01\r\u001b[K     |███████████████▊                | 358kB 12.1MB/s eta 0:00:01\r\u001b[K     |████████████████▏               | 368kB 12.1MB/s eta 0:00:01\r\u001b[K     |████████████████▋               | 378kB 12.1MB/s eta 0:00:01\r\u001b[K     |█████████████████               | 389kB 12.1MB/s eta 0:00:01\r\u001b[K     |█████████████████▌              | 399kB 12.1MB/s eta 0:00:01\r\u001b[K     |██████████████████              | 409kB 12.1MB/s eta 0:00:01\r\u001b[K     |██████████████████▍             | 419kB 12.1MB/s eta 0:00:01\r\u001b[K     |██████████████████▉             | 430kB 12.1MB/s eta 0:00:01\r\u001b[K     |███████████████████▎            | 440kB 12.1MB/s eta 0:00:01\r\u001b[K     |███████████████████▊            | 450kB 12.1MB/s eta 0:00:01\r\u001b[K     |████████████████████▏           | 460kB 12.1MB/s eta 0:00:01\r\u001b[K     |████████████████████▋           | 471kB 12.1MB/s eta 0:00:01\r\u001b[K     |█████████████████████           | 481kB 12.1MB/s eta 0:00:01\r\u001b[K     |█████████████████████▌          | 491kB 12.1MB/s eta 0:00:01\r\u001b[K     |██████████████████████          | 501kB 12.1MB/s eta 0:00:01\r\u001b[K     |██████████████████████▍         | 512kB 12.1MB/s eta 0:00:01\r\u001b[K     |██████████████████████▉         | 522kB 12.1MB/s eta 0:00:01\r\u001b[K     |███████████████████████▎        | 532kB 12.1MB/s eta 0:00:01\r\u001b[K     |███████████████████████▊        | 542kB 12.1MB/s eta 0:00:01\r\u001b[K     |████████████████████████▏       | 552kB 12.1MB/s eta 0:00:01\r\u001b[K     |████████████████████████▋       | 563kB 12.1MB/s eta 0:00:01\r\u001b[K     |█████████████████████████       | 573kB 12.1MB/s eta 0:00:01\r\u001b[K     |█████████████████████████▌      | 583kB 12.1MB/s eta 0:00:01\r\u001b[K     |██████████████████████████      | 593kB 12.1MB/s eta 0:00:01\r\u001b[K     |██████████████████████████▍     | 604kB 12.1MB/s eta 0:00:01\r\u001b[K     |██████████████████████████▉     | 614kB 12.1MB/s eta 0:00:01\r\u001b[K     |███████████████████████████▎    | 624kB 12.1MB/s eta 0:00:01\r\u001b[K     |███████████████████████████▊    | 634kB 12.1MB/s eta 0:00:01\r\u001b[K     |████████████████████████████▎   | 645kB 12.1MB/s eta 0:00:01\r\u001b[K     |████████████████████████████▊   | 655kB 12.1MB/s eta 0:00:01\r\u001b[K     |█████████████████████████████▏  | 665kB 12.1MB/s eta 0:00:01\r\u001b[K     |█████████████████████████████▋  | 675kB 12.1MB/s eta 0:00:01\r\u001b[K     |██████████████████████████████  | 686kB 12.1MB/s eta 0:00:01\r\u001b[K     |██████████████████████████████▌ | 696kB 12.1MB/s eta 0:00:01\r\u001b[K     |███████████████████████████████ | 706kB 12.1MB/s eta 0:00:01\r\u001b[K     |███████████████████████████████▍| 716kB 12.1MB/s eta 0:00:01\r\u001b[K     |███████████████████████████████▉| 727kB 12.1MB/s eta 0:00:01\r\u001b[K     |████████████████████████████████| 737kB 12.1MB/s \n",
            "\u001b[?25hRequirement already satisfied: PyYAML in /usr/local/lib/python3.6/dist-packages (from pyngrok) (3.13)\n",
            "Building wheels for collected packages: pyngrok\n",
            "  Building wheel for pyngrok (setup.py) ... \u001b[?25l\u001b[?25hdone\n",
            "  Created wheel for pyngrok: filename=pyngrok-5.0.2-cp36-none-any.whl size=18972 sha256=2f1f4f6b07ef953f1afd605425a83045c5ff3226a993352ce79e8f83d759326e\n",
            "  Stored in directory: /root/.cache/pip/wheels/e1/94/52/c88ac157149e3506d377ae531697455b43ab49b76d3f2cc862\n",
            "Successfully built pyngrok\n",
            "Installing collected packages: pyngrok\n",
            "Successfully installed pyngrok-5.0.2\n"
          ],
          "name": "stdout"
        }
      ]
    },
    {
      "cell_type": "code",
      "metadata": {
        "colab": {
          "base_uri": "https://localhost:8080/"
        },
        "id": "P-TWD1SkUIdH",
        "outputId": "90250ba3-4eaf-480a-e290-47369c480a31"
      },
      "source": [
        "%%writefile app.py\r\n",
        "import streamlit as st\r\n",
        "st.title('Image Classifier')"
      ],
      "execution_count": 25,
      "outputs": [
        {
          "output_type": "stream",
          "text": [
            "Writing app.py\n"
          ],
          "name": "stdout"
        }
      ]
    },
    {
      "cell_type": "code",
      "metadata": {
        "colab": {
          "base_uri": "https://localhost:8080/"
        },
        "id": "O70ZFqkSUpMj",
        "outputId": "b7a23ceb-317f-49ed-df3a-fd0a4efbb694"
      },
      "source": [
        "!nohup stremlit run app.py &\r\n",
        "\r\n",
        "url = ngrok.connect(port='8501')\r\n",
        "url"
      ],
      "execution_count": 26,
      "outputs": [
        {
          "output_type": "stream",
          "text": [
            "nohup: appending output to 'nohup.out'\n",
            "nohup: failed to run command 'stremlit': No such file or directory\n"
          ],
          "name": "stdout"
        },
        {
          "output_type": "execute_result",
          "data": {
            "text/plain": [
              "<NgrokTunnel: \"http://e2474e7ff3ff.ngrok.io\" -> \"http://localhost:80\">"
            ]
          },
          "metadata": {
            "tags": []
          },
          "execution_count": 26
        }
      ]
    }
  ]
}